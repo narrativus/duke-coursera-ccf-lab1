{
  "nbformat": 4,
  "nbformat_minor": 0,
  "metadata": {
    "colab": {
      "name": "00 example notebook Colab.ipynb",
      "provenance": [],
      "authorship_tag": "ABX9TyP6uFBsKR+LN/kDpyYoWcml",
      "include_colab_link": true
    },
    "kernelspec": {
      "name": "python3",
      "display_name": "Python 3"
    },
    "language_info": {
      "name": "python"
    }
  },
  "cells": [
    {
      "cell_type": "markdown",
      "metadata": {
        "id": "view-in-github",
        "colab_type": "text"
      },
      "source": [
        "<a href=\"https://colab.research.google.com/github/narrativus/duke-coursera-ccf-lab1/blob/main/00_example_notebook_Colab.ipynb\" target=\"_parent\"><img src=\"https://colab.research.google.com/assets/colab-badge.svg\" alt=\"Open In Colab\"/></a>"
      ]
    },
    {
      "cell_type": "markdown",
      "source": [
        "## Example markdown\n",
        "\n",
        "![alt text for image](https://pocket-image-cache.com//filters:no_upscale():format(jpg):extract_cover()/https%3A%2F%2Fmiro.medium.com%2Fmax%2F3606%2F1*Bk6dec-nG1PuAJv3PjZq9w.png)"
      ],
      "metadata": {
        "id": "yTL_clQkRw4V"
      }
    },
    {
      "cell_type": "code",
      "execution_count": 1,
      "metadata": {
        "colab": {
          "base_uri": "https://localhost:8080/"
        },
        "id": "CDWpiR7_RrYu",
        "outputId": "d104f65c-1fbb-4086-c440-7e7478691a62"
      },
      "outputs": [
        {
          "output_type": "stream",
          "name": "stdout",
          "text": [
            "bonjour le monde\n"
          ]
        }
      ],
      "source": [
        "print(\"bonjour le monde\")"
      ]
    }
  ]
}